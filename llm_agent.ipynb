{
 "cells": [
  {
   "cell_type": "code",
   "execution_count": 8,
   "metadata": {},
   "outputs": [],
   "source": [
    "from langchain.agents import load_tools, load_agent\n",
    "from langchain.tools.tavily_search import TavilySearchResults\n",
    "from langchain_groq import ChatGroq\n",
    "from langchain.agents import initialize_agent\n",
    "from dotenv import load_dotenv\n",
    "from langchain.prompts import ChatPromptTemplate\n",
    "load_dotenv()\n",
    "llm = ChatGroq(model=\"llama-3.3-70b-versatile\")"
   ]
  },
  {
   "cell_type": "code",
   "execution_count": 10,
   "metadata": {},
   "outputs": [],
   "source": [
    "t_search = TavilySearchResults()\n",
    "tools = [t_search]\n",
    "\n",
    "agent = initialize_agent(\n",
    "    tools=tools,\n",
    "    llm=llm,\n",
    "    agent=\"zero-shot-react-description\",  # Correct agent type\n",
    "    verbose=True\n",
    ")"
   ]
  },
  {
   "cell_type": "code",
   "execution_count": 12,
   "metadata": {},
   "outputs": [
    {
     "name": "stdout",
     "output_type": "stream",
     "text": [
      "\n",
      "\n",
      "\u001b[1m> Entering new AgentExecutor chain...\u001b[0m\n",
      "\u001b[32;1m\u001b[1;3mTo find the latest news about Generative AI, I should search for recent articles and updates on the topic. \n",
      "\n",
      "Action: tavily_search_results_json\n",
      "Action Input: \"latest news Generative AI\"\u001b[0m\n",
      "Observation: \u001b[36;1m\u001b[1;3m[{'url': 'https://techcrunch.com/tag/generative-ai/', 'content': 'Generative AI news and analysis | TechCrunch Generative AI news and analysis | TechCrunch AI Site Search Toggle AI Generative AI TechCrunch covers the latest news and analysis in Generative AI (GenAI). AI AI DeepSeek: Everything you need to know about the AI chatbot app AI AI DeepSeek: The countries and agencies that have banned the AI company’s tech AI AI AI AI Google quietly announces its next flagship AI model AI AI Ai2 says its new AI model beats one of DeepSeek’s best AI AI Hugging Face researchers are trying to build a more open version of DeepSeek’s AI ‘reasoning’ model AI ChatGPT: Everything you need to know about the AI-powered chatbot AI AI AI'}, {'url': 'https://www.cxtoday.com/tag/generative-ai/', 'content': 'Generative AI News - GenAI - CX Today BIG CX News Latest Generative AI News Conversational AI Big CX News from Zoho, Google, Cisco & Salesforce Contact Center Five9 Unveils Its New Brand Identity, Ushers the Future of AI-Human Collaboration Contact Center Smarsh Acquires CallCabinet to “Transform” AI-Powered Voice Compliance in Customer Experience Conversational AI Telefónica Tech Targets Customer Service with New GenAI Platform Contact Center 61% of CX Practitioners Agree: Governments Should Mandate the Right to Speak to a Human In Customer Service Contact Center Copilots & Virtual Agents: Where Should They Fit in Your CX Strategy? Contact Center Transforming Contact Centers with AI: Insights and Innovations CX TV NVIDIA Introduces Its Latest Agentic AI Innovations, Teases What’s to Come'}, {'url': 'https://analyticsindiamag.com/news/generative-ai/', 'content': 'Generative AI News & Updates in 2024 “As many as 91% of the respondents believe that GenAI will significantly boost employee productivity, and 82% see enhanced customer experiences through GenAI integration,” said the Technology Holdings panel while speaking at Cypher 2024, India’s biggest AI conference organised by AIM Media House. Fuel Your Data with Generative AI Data is the fuel for generative AI. Tech Mahindra, a global leader in technology consulting and digital solutions, has announced a strategic partnership with Google Cloud aimed at accelerating the adoption of generative AI and driving digital transformation across Mahindra & Mahindra (M&M) entities. AWS and iTNT Hub Collaborate to Nurture Generative AI innovation Among Startups in Tamil Nadu The 10 Best AI Image Generator in 2024'}, {'url': 'https://www.genaitoday.ai/', 'content': \"Generative AI Expo GenAI, Demystified: Learn More at Generative AI Expo 2025 Chargezoom Raises $11.5M, Supports Businesses' Accounting Needs with AI-Powered Data Enrichment Engine CX solutions provider Cyara recently announced the launch of DART AI, its new AI… Innovation in the Making: E2IP's Edge AI Sensing Platform, Powered by STMicroelectronics' STM32N6 E2IP Technologies announced the launch of the E2IP Edge AI Sensing Platform, powered by STMicroelectronics' STM32N6 MCU with an embedded Neural-ART accelerator. LG's EXAONE 3.5: A New Standard in Generative AI Skyflow recently revealed new capabilities for Agentic AI to allow enterprises to build and deploy AI agents with a security and privacy trust layer. Edge Impulse and STMicroelectronics have officially announced full support for the STM32N6 high-performance MCUs with AI acceleration. FEATURED EVENT\"}, {'url': 'https://aibusiness.com/generative-ai', 'content': 'Generative AI recent news | AI Business Recent in\\xa0ML Recent in\\xa0NLP Recent in\\xa0Verticals Recent in\\xa0Responsible AI Generative AI Recent in\\xa0Generative AI Podcasts AI Business TV London 2022 AI Business TV New York 2022 AI Business TV London 2023 Generative AI Generative AI Someone using generative AI promptsGenerative AI Generative AI Generative AI Generative AI Generative AI Generative AI Generative AI Generative AI Generative AI Generative AI Generative AI Generative AI Generative AI: Promise or Peril? Generative AI: Promise or Peril? Generative AI Generative AI Generative AI Generative AI Generative AI Quantum Computer Launched for Generative AI Quantum Computer Launched for Generative AI Generative AI Latest News Someone using generative AI prompts Generative AI Generative AI Latest podcasts'}]\u001b[0m\n",
      "Thought:\u001b[32;1m\u001b[1;3mThought: I have received a list of search results from various websites, including TechCrunch, CX Today, Analytics India Magazine, GenAI Today, and AI Business. These results provide a range of information on the latest news and developments in Generative AI, including new models, applications, and innovations. To find the most relevant and up-to-date information, I should analyze the content of these results and look for common themes or trends.\n",
      "\n",
      "Action: None ( analysis of the results)\n",
      "Action Input: None\u001b[0m\n",
      "Observation: None ( analysis of the results) is not a valid tool, try one of [tavily_search_results_json].\n",
      "Thought:\u001b[32;1m\u001b[1;3mThought: I have analyzed the content of the search results and found that there are several common themes and trends in the latest news about Generative AI. These include the development of new AI models, such as DeepSeek and Agentic AI, and the integration of Generative AI into various industries, including customer service and accounting. There are also several upcoming events and conferences focused on Generative AI, such as the Generative AI Expo 2025.\n",
      "\n",
      "Thought: I now know the final answer\n",
      "Final Answer: The latest news about Generative AI includes the development of new AI models, such as DeepSeek and Agentic AI, and the integration of Generative AI into various industries, including customer service and accounting. There are also several upcoming events and conferences focused on Generative AI, such as the Generative AI Expo 2025. Overall, Generative AI is a rapidly evolving field with many new innovations and applications being developed.\u001b[0m\n",
      "\n",
      "\u001b[1m> Finished chain.\u001b[0m\n",
      "The latest news about Generative AI includes the development of new AI models, such as DeepSeek and Agentic AI, and the integration of Generative AI into various industries, including customer service and accounting. There are also several upcoming events and conferences focused on Generative AI, such as the Generative AI Expo 2025. Overall, Generative AI is a rapidly evolving field with many new innovations and applications being developed.\n"
     ]
    }
   ],
   "source": [
    "response = agent.invoke({\"input\": \"What's the latest news about Generative AI?\"})\n",
    "print(response['output'])"
   ]
  },
  {
   "cell_type": "code",
   "execution_count": null,
   "metadata": {},
   "outputs": [],
   "source": []
  },
  {
   "cell_type": "code",
   "execution_count": null,
   "metadata": {},
   "outputs": [],
   "source": []
  },
  {
   "cell_type": "code",
   "execution_count": null,
   "metadata": {},
   "outputs": [],
   "source": [
    "from langchain.agents.agent_toolkits import create_python_agent\n",
    "from langchain.agents import load_tools, initialize_agent\n",
    "from langchain.agents import AgentType\n",
    "#from langchain.tools.python.tool import PythonREPLTool\n",
    "from langchain.python import PythonREPL\n",
    "from langchain.chat_models import ChatOpenAI"
   ]
  }
 ],
 "metadata": {
  "kernelspec": {
   "display_name": "env",
   "language": "python",
   "name": "python3"
  },
  "language_info": {
   "codemirror_mode": {
    "name": "ipython",
    "version": 3
   },
   "file_extension": ".py",
   "mimetype": "text/x-python",
   "name": "python",
   "nbconvert_exporter": "python",
   "pygments_lexer": "ipython3",
   "version": "3.13.1"
  }
 },
 "nbformat": 4,
 "nbformat_minor": 2
}
